{
  "nbformat": 4,
  "nbformat_minor": 0,
  "metadata": {
    "colab": {
      "name": "mCV20_A3_Task4.ipynb",
      "provenance": [],
      "collapsed_sections": [],
      "toc_visible": true
    },
    "kernelspec": {
      "name": "python3",
      "display_name": "Python 3"
    }
  },
  "cells": [
    {
      "cell_type": "markdown",
      "metadata": {
        "id": "s5q006EYTse4",
        "colab_type": "text"
      },
      "source": [
        "## Task 4: Detecting fake notes with Keras\n",
        "In this task, we are going to train a neural network to distinguish between real and fake bank notes. This notebook contains information about how a general real-life machine learning task will take be divided into set of steps. \n",
        "The first step however, is to import the correct libraries.\n",
        "\n",
        "Below\n",
        "\n",
        "**numpy** is a numeric processing library, this will help up read data from files an put them into a format that is usable later on \n",
        "\n",
        "**keras** is the high level machine learning framework that we want to use to train a model. \n",
        "\n",
        "The first step is to import them so we can use them in our project \n",
        "(Hint: Press Shift+enter to execute a cell)"
      ]
    },
    {
      "cell_type": "code",
      "metadata": {
        "id": "rndv54BZTNDA",
        "colab_type": "code",
        "colab": {
          "base_uri": "https://localhost:8080/",
          "height": 34
        },
        "outputId": "9f29792b-802d-479d-d85f-da009eb3f2d7"
      },
      "source": [
        "import numpy as np\n",
        "import keras as K # <-- This is all we need to get Keras up and running"
      ],
      "execution_count": 1,
      "outputs": [
        {
          "output_type": "stream",
          "text": [
            "Using TensorFlow backend.\n"
          ],
          "name": "stderr"
        }
      ]
    },
    {
      "cell_type": "markdown",
      "metadata": {
        "id": "30_GUOvAMKv3",
        "colab_type": "text"
      },
      "source": [
        "## Data Loader \n",
        "\n",
        "A small helper function that reads data in the correct format that we expect\n",
        "It returns the features as **x** and the label as **y**\n",
        "\n",
        "You do not need to change anything in this code.\n",
        "\n"
      ]
    },
    {
      "cell_type": "code",
      "metadata": {
        "id": "4MCDkwd2Tadn",
        "colab_type": "code",
        "colab": {}
      },
      "source": [
        "# Function that reads the CSV file and loads the data \n",
        "# x : contains the features as Nx4 matrix (N is the number of observations)\n",
        "# y : contains the corresponding label Nx1 vector\n",
        "\n",
        "def load_data(filename):\n",
        "  x = np.loadtxt(filename, delimiter=',', usecols=[1,2,3,4], dtype=np.float32, skiprows=1)\n",
        "  y = np.loadtxt(filename, delimiter=',', usecols=[5], dtype=np.float32, skiprows=1) \n",
        "  return (x, y)\n"
      ],
      "execution_count": 0,
      "outputs": []
    },
    {
      "cell_type": "code",
      "metadata": {
        "id": "4TQT7xuSYKly",
        "colab_type": "code",
        "colab": {
          "base_uri": "https://localhost:8080/",
          "height": 386
        },
        "outputId": "1824bd02-86b8-4ab5-ea10-6839bd62a780"
      },
      "source": [
        "# Lets download the the data we need. This is remotely hosted somewhere on the \n",
        "# internet. \n",
        "\n",
        "import os.path\n",
        "from os import path\n",
        "\n",
        "TRAIN_DATA = 'https://cloudstor.aarnet.edu.au/plus/s/ieCuexofrjaZaYq/download'\n",
        "TEST_DATA =  'https://cloudstor.aarnet.edu.au/plus/s/eLwLDo91lenckK1/download'\n",
        "\n",
        "if not path.exists('test.csv'):\n",
        "  !wget https://cloudstor.aarnet.edu.au/plus/s/eLwLDo91lenckK1/download -O test.csv\n",
        "\n",
        "if not path.exists('train.csv'):\n",
        "  !wget https://cloudstor.aarnet.edu.au/plus/s/ieCuexofrjaZaYq/download -O train.csv\n",
        "\n"
      ],
      "execution_count": 4,
      "outputs": [
        {
          "output_type": "stream",
          "text": [
            "--2020-06-13 03:04:21--  https://cloudstor.aarnet.edu.au/plus/s/eLwLDo91lenckK1/download\n",
            "Resolving cloudstor.aarnet.edu.au (cloudstor.aarnet.edu.au)... 202.158.207.20\n",
            "Connecting to cloudstor.aarnet.edu.au (cloudstor.aarnet.edu.au)|202.158.207.20|:443... connected.\n",
            "HTTP request sent, awaiting response... 200 OK\n",
            "Length: 23278 (23K) [text/csv]\n",
            "Saving to: ‘test.csv’\n",
            "\n",
            "test.csv            100%[===================>]  22.73K   110KB/s    in 0.2s    \n",
            "\n",
            "2020-06-13 03:04:24 (110 KB/s) - ‘test.csv’ saved [23278/23278]\n",
            "\n",
            "--2020-06-13 03:04:26--  https://cloudstor.aarnet.edu.au/plus/s/ieCuexofrjaZaYq/download\n",
            "Resolving cloudstor.aarnet.edu.au (cloudstor.aarnet.edu.au)... 202.158.207.20\n",
            "Connecting to cloudstor.aarnet.edu.au (cloudstor.aarnet.edu.au)|202.158.207.20|:443... connected.\n",
            "HTTP request sent, awaiting response... 200 OK\n",
            "Length: 93169 (91K) [text/csv]\n",
            "Saving to: ‘train.csv’\n",
            "\n",
            "train.csv           100%[===================>]  90.99K   157KB/s    in 0.6s    \n",
            "\n",
            "2020-06-13 03:04:29 (157 KB/s) - ‘train.csv’ saved [93169/93169]\n",
            "\n"
          ],
          "name": "stdout"
        }
      ]
    },
    {
      "cell_type": "markdown",
      "metadata": {
        "id": "biOI1vLBMnQ_",
        "colab_type": "text"
      },
      "source": [
        "## Training the network\n",
        "\n",
        "In the cell below alot is happening. \n",
        "\n",
        "- input_dim: This is the number of features we are working with. For the current problem this is fixed to 4. \n",
        "- learning_rate: This determines how quickly the network updates it weight in response to the incoming gradients. Change too slowly and the network may never reach the lowest loss value, change too fast and you run into the danger of oscillating. Normal value range between very small (1e-5) to 0.1\n",
        "\n",
        "- max_epochs: One epoch is a pass over the whole training set. Setting this number tell the training algorithm to do this many passes over the whole data. Since our data is really small (about a thousand samples) we can set this to something high in order for the network to converge. \n",
        "\n",
        "### Network definition\n",
        "\n",
        "Line 9-11 define the architecture of the network. \n",
        "\n",
        "- Line 9: We tell keras that the model will be of the _Sequential_ type, that is data is going to flow from the input to the output and we do not have any forks / loops.\n",
        "\n",
        "- Line 10: In keras, Dense means a fully connected layer. To our model we add a Dense Layer, with 5 neurons at the output. For the first layer, we have to specify the input size as well, given by the parameter *input_dim*. In our case this is fixed to 4. Assuming our input is $x$, the output after the fully connected layer will be of the form $y_1 = W_1x$\n",
        "Another important thing is the *activation* parameter, which we have set to sigmoid. This is the non-linearlity which will be applied to the **output** of this layer that is $ y_{\\sigma_{1}} = \\sigma_{1}(W_{1}x) $.\n",
        "\n",
        "- Line 11: We additionally have another layer which maps the output $y_{\\sigma_{1}}$ to a single output, which another sigmoid as the activation function. The output of this sigmoid is used to classify if the class is 0 or 1. (-1 or 1 in case of Keras, but that conversion happens automatically and we do not need to worry about it.)\n",
        "\n",
        "\n",
        "- Line 13 Just an architecture is not enough for learning. We need to specify a **loss function** as well as an optimizer. For this assignment, we are going to stick with SGD (Stochastic Gradient Descent) as the optimizier. However, we can choose different losses and see their effect on how we learn. All of this is brough together using **compile** in Keras.\n",
        "\n",
        "- Line 17-18 loads the training and testing data\n",
        "\n",
        "- Line 20 is where the training happens. This done by calling the fit() method of the model with the training data (train_x and train_y). Batch_size control how many samples are seen at the same time. This we can safely leave at 32 for the moment. We also pass the testing data to see how well we are doing along the way. This is just for evaluation and the network never uses this data to train. One run, this will print a line every epoch to report loss and accuracy for both the training and testing sets."
      ]
    },
    {
      "cell_type": "code",
      "metadata": {
        "id": "JoMt1ozCUTL3",
        "colab_type": "code",
        "colab": {
          "base_uri": "https://localhost:8080/",
          "height": 1000
        },
        "outputId": "787cb47e-4872-43cd-b923-203261c177e4"
      },
      "source": [
        "\n",
        "# Setting parameters\n",
        "input_dim = 4 # <- This is fixed. We do not need to change it.\n",
        "\n",
        "learning_rate = 0.1 # Ranges from very small 0.0001 to 0.1\n",
        "max_epochs =    50 # Another controllable parameter. \n",
        "\n",
        "model = K.models.Sequential()\n",
        "model.add(K.layers.Dense(units= 5 , activation='relu', input_dim=input_dim)) #Hidden layer \n",
        "model.add(K.layers.Dense(units= 1, activation='sigmoid')) # output layer\n",
        "\n",
        "model.compile(loss='binary_crossentropy',  \n",
        "              optimizer= K.optimizers.SGD(lr=learning_rate), \n",
        "              metrics=['accuracy'])  \n",
        "\n",
        "\n",
        "(train_x, train_y) = load_data('train.csv')\n",
        "(test_x, test_y)   = load_data('test.csv')\n",
        "\n",
        "h = model.fit(train_x, train_y, \n",
        "              batch_size=32,\n",
        "              epochs=max_epochs, \n",
        "              verbose=2, \n",
        "              validation_data = (test_x, test_y)\n",
        "              )"
      ],
      "execution_count": 7,
      "outputs": [
        {
          "output_type": "stream",
          "text": [
            "Train on 1098 samples, validate on 274 samples\n",
            "Epoch 1/50\n",
            " - 0s - loss: 0.6912 - accuracy: 0.5109 - val_loss: 0.6815 - val_accuracy: 0.5620\n",
            "Epoch 2/50\n",
            " - 0s - loss: 0.6797 - accuracy: 0.5537 - val_loss: 0.6705 - val_accuracy: 0.5620\n",
            "Epoch 3/50\n",
            " - 0s - loss: 0.6683 - accuracy: 0.5537 - val_loss: 0.6580 - val_accuracy: 0.5620\n",
            "Epoch 4/50\n",
            " - 0s - loss: 0.6535 - accuracy: 0.5765 - val_loss: 0.6405 - val_accuracy: 0.6350\n",
            "Epoch 5/50\n",
            " - 0s - loss: 0.6343 - accuracy: 0.6339 - val_loss: 0.6172 - val_accuracy: 0.6715\n",
            "Epoch 6/50\n",
            " - 0s - loss: 0.6090 - accuracy: 0.6803 - val_loss: 0.5893 - val_accuracy: 0.6861\n",
            "Epoch 7/50\n",
            " - 0s - loss: 0.5782 - accuracy: 0.7404 - val_loss: 0.5553 - val_accuracy: 0.7737\n",
            "Epoch 8/50\n",
            " - 0s - loss: 0.5421 - accuracy: 0.7823 - val_loss: 0.5196 - val_accuracy: 0.8139\n",
            "Epoch 9/50\n",
            " - 0s - loss: 0.5062 - accuracy: 0.8115 - val_loss: 0.4805 - val_accuracy: 0.8175\n",
            "Epoch 10/50\n",
            " - 0s - loss: 0.4700 - accuracy: 0.8215 - val_loss: 0.4466 - val_accuracy: 0.8686\n",
            "Epoch 11/50\n",
            " - 0s - loss: 0.4365 - accuracy: 0.8461 - val_loss: 0.4150 - val_accuracy: 0.8321\n",
            "Epoch 12/50\n",
            " - 0s - loss: 0.4030 - accuracy: 0.8561 - val_loss: 0.3845 - val_accuracy: 0.8540\n",
            "Epoch 13/50\n",
            " - 0s - loss: 0.3742 - accuracy: 0.8670 - val_loss: 0.3518 - val_accuracy: 0.8942\n",
            "Epoch 14/50\n",
            " - 0s - loss: 0.3470 - accuracy: 0.8761 - val_loss: 0.3299 - val_accuracy: 0.8796\n",
            "Epoch 15/50\n",
            " - 0s - loss: 0.3214 - accuracy: 0.8916 - val_loss: 0.3033 - val_accuracy: 0.9051\n",
            "Epoch 16/50\n",
            " - 0s - loss: 0.2997 - accuracy: 0.9053 - val_loss: 0.2862 - val_accuracy: 0.9088\n",
            "Epoch 17/50\n",
            " - 0s - loss: 0.2775 - accuracy: 0.9135 - val_loss: 0.2635 - val_accuracy: 0.9161\n",
            "Epoch 18/50\n",
            " - 0s - loss: 0.2584 - accuracy: 0.9189 - val_loss: 0.2421 - val_accuracy: 0.9197\n",
            "Epoch 19/50\n",
            " - 0s - loss: 0.2393 - accuracy: 0.9235 - val_loss: 0.2258 - val_accuracy: 0.9270\n",
            "Epoch 20/50\n",
            " - 0s - loss: 0.2213 - accuracy: 0.9353 - val_loss: 0.2100 - val_accuracy: 0.9270\n",
            "Epoch 21/50\n",
            " - 0s - loss: 0.2070 - accuracy: 0.9372 - val_loss: 0.2042 - val_accuracy: 0.9234\n",
            "Epoch 22/50\n",
            " - 0s - loss: 0.1930 - accuracy: 0.9381 - val_loss: 0.1833 - val_accuracy: 0.9380\n",
            "Epoch 23/50\n",
            " - 0s - loss: 0.1809 - accuracy: 0.9435 - val_loss: 0.1762 - val_accuracy: 0.9416\n",
            "Epoch 24/50\n",
            " - 0s - loss: 0.1695 - accuracy: 0.9508 - val_loss: 0.1624 - val_accuracy: 0.9453\n",
            "Epoch 25/50\n",
            " - 0s - loss: 0.1597 - accuracy: 0.9490 - val_loss: 0.1593 - val_accuracy: 0.9489\n",
            "Epoch 26/50\n",
            " - 0s - loss: 0.1491 - accuracy: 0.9581 - val_loss: 0.1436 - val_accuracy: 0.9489\n",
            "Epoch 27/50\n",
            " - 0s - loss: 0.1419 - accuracy: 0.9563 - val_loss: 0.1390 - val_accuracy: 0.9453\n",
            "Epoch 28/50\n",
            " - 0s - loss: 0.1342 - accuracy: 0.9617 - val_loss: 0.1335 - val_accuracy: 0.9562\n",
            "Epoch 29/50\n",
            " - 0s - loss: 0.1273 - accuracy: 0.9636 - val_loss: 0.1285 - val_accuracy: 0.9562\n",
            "Epoch 30/50\n",
            " - 0s - loss: 0.1218 - accuracy: 0.9654 - val_loss: 0.1208 - val_accuracy: 0.9708\n",
            "Epoch 31/50\n",
            " - 0s - loss: 0.1176 - accuracy: 0.9663 - val_loss: 0.1116 - val_accuracy: 0.9635\n",
            "Epoch 32/50\n",
            " - 0s - loss: 0.1098 - accuracy: 0.9709 - val_loss: 0.1133 - val_accuracy: 0.9708\n",
            "Epoch 33/50\n",
            " - 0s - loss: 0.1059 - accuracy: 0.9699 - val_loss: 0.1049 - val_accuracy: 0.9562\n",
            "Epoch 34/50\n",
            " - 0s - loss: 0.1030 - accuracy: 0.9709 - val_loss: 0.1015 - val_accuracy: 0.9708\n",
            "Epoch 35/50\n",
            " - 0s - loss: 0.0984 - accuracy: 0.9709 - val_loss: 0.0957 - val_accuracy: 0.9672\n",
            "Epoch 36/50\n",
            " - 0s - loss: 0.0957 - accuracy: 0.9727 - val_loss: 0.0938 - val_accuracy: 0.9635\n",
            "Epoch 37/50\n",
            " - 0s - loss: 0.0912 - accuracy: 0.9727 - val_loss: 0.0901 - val_accuracy: 0.9635\n",
            "Epoch 38/50\n",
            " - 0s - loss: 0.0893 - accuracy: 0.9745 - val_loss: 0.0897 - val_accuracy: 0.9635\n",
            "Epoch 39/50\n",
            " - 0s - loss: 0.0853 - accuracy: 0.9754 - val_loss: 0.0963 - val_accuracy: 0.9708\n",
            "Epoch 40/50\n",
            " - 0s - loss: 0.0834 - accuracy: 0.9772 - val_loss: 0.0985 - val_accuracy: 0.9708\n",
            "Epoch 41/50\n",
            " - 0s - loss: 0.0818 - accuracy: 0.9781 - val_loss: 0.0807 - val_accuracy: 0.9708\n",
            "Epoch 42/50\n",
            " - 0s - loss: 0.0787 - accuracy: 0.9763 - val_loss: 0.0781 - val_accuracy: 0.9745\n",
            "Epoch 43/50\n",
            " - 0s - loss: 0.0773 - accuracy: 0.9791 - val_loss: 0.0798 - val_accuracy: 0.9635\n",
            "Epoch 44/50\n",
            " - 0s - loss: 0.0747 - accuracy: 0.9754 - val_loss: 0.0751 - val_accuracy: 0.9745\n",
            "Epoch 45/50\n",
            " - 0s - loss: 0.0737 - accuracy: 0.9754 - val_loss: 0.0740 - val_accuracy: 0.9781\n",
            "Epoch 46/50\n",
            " - 0s - loss: 0.0724 - accuracy: 0.9754 - val_loss: 0.0772 - val_accuracy: 0.9745\n",
            "Epoch 47/50\n",
            " - 0s - loss: 0.0706 - accuracy: 0.9772 - val_loss: 0.0709 - val_accuracy: 0.9781\n",
            "Epoch 48/50\n",
            " - 0s - loss: 0.0686 - accuracy: 0.9791 - val_loss: 0.0694 - val_accuracy: 0.9781\n",
            "Epoch 49/50\n",
            " - 0s - loss: 0.0671 - accuracy: 0.9781 - val_loss: 0.0676 - val_accuracy: 0.9745\n",
            "Epoch 50/50\n",
            " - 0s - loss: 0.0667 - accuracy: 0.9791 - val_loss: 0.0663 - val_accuracy: 0.9745\n"
          ],
          "name": "stdout"
        }
      ]
    },
    {
      "cell_type": "code",
      "metadata": {
        "id": "a_hd2FbwRZa5",
        "colab_type": "code",
        "colab": {
          "base_uri": "https://localhost:8080/",
          "height": 594
        },
        "outputId": "ed0735c6-f328-404f-adcc-372f7016d984"
      },
      "source": [
        "# This makes figures that show how the training and testing accuracy and loss\n",
        "# evolved against the number of epochs for the current training run\n",
        "\n",
        "import matplotlib.pyplot as plt\n",
        "\n",
        "plt.plot(h.history['accuracy'])\n",
        "plt.plot(h.history['val_accuracy'])\n",
        "plt.legend((\"train accuracy\",\"test accuracy\"))\n",
        "plt.xlabel('epoch')\n",
        "plt.ylabel('accuracy')\n",
        "plt.show()\n",
        "\n",
        "plt.plot(h.history['loss'])\n",
        "plt.plot(h.history['val_loss'])\n",
        "plt.legend((\"train loss\",\"test loss\"))\n",
        "plt.xlabel('epoch')\n",
        "plt.ylabel('loss')\n",
        "plt.show()\n",
        "\n",
        "eval_results = model.evaluate(test_x, test_y, verbose=0) \n",
        "print(\"\\nLoss, accuracy on test data: \")\n",
        "print(\"%0.4f %0.2f%%\" % (eval_results[0], eval_results[1]*100))"
      ],
      "execution_count": 8,
      "outputs": [
        {
          "output_type": "display_data",
          "data": {
            "image/png": "[encoded data removed]",
            "text/plain": [
              "<Figure size 432x288 with 1 Axes>"
            ]
          },
          "metadata": {
            "tags": [],
            "needs_background": "light"
          }
        },
        {
          "output_type": "display_data",
          "data": {
            "image/png": "[encoded data removed]",
            "text/plain": [
              "<Figure size 432x288 with 1 Axes>"
            ]
          },
          "metadata": {
            "tags": [],
            "needs_background": "light"
          }
        },
        {
          "output_type": "stream",
          "text": [
            "\n",
            "Loss, accuracy on test data: \n",
            "0.0663 97.45%\n"
          ],
          "name": "stdout"
        }
      ]
    },
    {
      "cell_type": "code",
      "metadata": {
        "id": "LMgw-5hOQJpd",
        "colab_type": "code",
        "colab": {}
      },
      "source": [
        ""
      ],
      "execution_count": 0,
      "outputs": []
    }
  ]
}